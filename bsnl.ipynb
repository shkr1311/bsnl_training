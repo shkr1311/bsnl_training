{
 "cells": [
  {
   "cell_type": "code",
   "execution_count": 1,
   "id": "5c0b94f4",
   "metadata": {},
   "outputs": [],
   "source": [
    "import pandas as pd"
   ]
  },
  {
   "cell_type": "code",
   "execution_count": 3,
   "id": "ca179429",
   "metadata": {},
   "outputs": [],
   "source": [
    "raw = \"\"\"customer_id,data_used_gb,calls_made,revenue_inr,region,date\n",
    "1001,5.2,25,180,Delhi,2025/09/25\n",
    "1002,,40,280,Mumbai,2025-09-25\n",
    "1003,7.8,32,210,chennai,25-09-2025\n",
    "1004,15.6,55,,DELHI,2025-09-25\n",
    "1005,3.4,18,120,Kolkata,2025-09-25\n",
    "1005,3.4,18,120,Kolkata,2025-09-25\n",
    "1006,8.7,52,150,Jabalpur,2025-09-25\n",
    "1007,5.8,22,135,Bhopal,2025-09-25\n",
    "1008,6.5,40,180,Gwailor,2025-09-25\n",
    "1009,11.7,100,350,Indore,2025-09-25\n",
    "1010,2.5,23,105,Chandigarh,2025-09-25\n",
    "1011,9.5,50,190,Ambala,2025-09-25\n",
    "1012,12.1,80,270,Bangalore,2025-09-25\n",
    "1013,,37,205,Gurgaon,2025-09-25\n",
    "1014,4.8,43,132,Hyderbad,2025-09-25\n",
    "\"\"\"\n"
   ]
  },
  {
   "cell_type": "code",
   "execution_count": 4,
   "id": "09e806fd",
   "metadata": {},
   "outputs": [
    {
     "data": {
      "text/plain": [
       "579"
      ]
     },
     "execution_count": 4,
     "metadata": {},
     "output_type": "execute_result"
    }
   ],
   "source": [
    "open(\"telecom_usage.csv\",\"w\").write(raw)"
   ]
  },
  {
   "cell_type": "code",
   "execution_count": 7,
   "id": "1345e299",
   "metadata": {},
   "outputs": [
    {
     "data": {
      "text/html": [
       "<div>\n",
       "<style scoped>\n",
       "    .dataframe tbody tr th:only-of-type {\n",
       "        vertical-align: middle;\n",
       "    }\n",
       "\n",
       "    .dataframe tbody tr th {\n",
       "        vertical-align: top;\n",
       "    }\n",
       "\n",
       "    .dataframe thead th {\n",
       "        text-align: right;\n",
       "    }\n",
       "</style>\n",
       "<table border=\"1\" class=\"dataframe\">\n",
       "  <thead>\n",
       "    <tr style=\"text-align: right;\">\n",
       "      <th></th>\n",
       "      <th>customer_id</th>\n",
       "      <th>data_used_gb</th>\n",
       "      <th>calls_made</th>\n",
       "      <th>revenue_inr</th>\n",
       "      <th>region</th>\n",
       "      <th>date</th>\n",
       "    </tr>\n",
       "  </thead>\n",
       "  <tbody>\n",
       "    <tr>\n",
       "      <th>0</th>\n",
       "      <td>1001</td>\n",
       "      <td>5.2</td>\n",
       "      <td>25</td>\n",
       "      <td>180.0</td>\n",
       "      <td>Delhi</td>\n",
       "      <td>2025/09/25</td>\n",
       "    </tr>\n",
       "    <tr>\n",
       "      <th>1</th>\n",
       "      <td>1002</td>\n",
       "      <td>NaN</td>\n",
       "      <td>40</td>\n",
       "      <td>280.0</td>\n",
       "      <td>Mumbai</td>\n",
       "      <td>2025-09-25</td>\n",
       "    </tr>\n",
       "    <tr>\n",
       "      <th>2</th>\n",
       "      <td>1003</td>\n",
       "      <td>7.8</td>\n",
       "      <td>32</td>\n",
       "      <td>210.0</td>\n",
       "      <td>chennai</td>\n",
       "      <td>25-09-2025</td>\n",
       "    </tr>\n",
       "    <tr>\n",
       "      <th>3</th>\n",
       "      <td>1004</td>\n",
       "      <td>15.6</td>\n",
       "      <td>55</td>\n",
       "      <td>NaN</td>\n",
       "      <td>DELHI</td>\n",
       "      <td>2025-09-25</td>\n",
       "    </tr>\n",
       "    <tr>\n",
       "      <th>4</th>\n",
       "      <td>1005</td>\n",
       "      <td>3.4</td>\n",
       "      <td>18</td>\n",
       "      <td>120.0</td>\n",
       "      <td>Kolkata</td>\n",
       "      <td>2025-09-25</td>\n",
       "    </tr>\n",
       "  </tbody>\n",
       "</table>\n",
       "</div>"
      ],
      "text/plain": [
       "   customer_id  data_used_gb  calls_made  revenue_inr   region        date\n",
       "0         1001           5.2          25        180.0    Delhi  2025/09/25\n",
       "1         1002           NaN          40        280.0   Mumbai  2025-09-25\n",
       "2         1003           7.8          32        210.0  chennai  25-09-2025\n",
       "3         1004          15.6          55          NaN    DELHI  2025-09-25\n",
       "4         1005           3.4          18        120.0  Kolkata  2025-09-25"
      ]
     },
     "execution_count": 7,
     "metadata": {},
     "output_type": "execute_result"
    }
   ],
   "source": [
    "pd.read_csv(\"telecom_usage.csv\").head()"
   ]
  },
  {
   "cell_type": "code",
   "execution_count": null,
   "id": "95f9e9ae",
   "metadata": {},
   "outputs": [],
   "source": []
  }
 ],
 "metadata": {
  "kernelspec": {
   "display_name": "Python 3",
   "language": "python",
   "name": "python3"
  },
  "language_info": {
   "codemirror_mode": {
    "name": "ipython",
    "version": 3
   },
   "file_extension": ".py",
   "mimetype": "text/x-python",
   "name": "python",
   "nbconvert_exporter": "python",
   "pygments_lexer": "ipython3",
   "version": "3.13.5"
  }
 },
 "nbformat": 4,
 "nbformat_minor": 5
}
