{
 "cells": [
  {
   "cell_type": "code",
   "execution_count": 4,
   "id": "7dec79cb",
   "metadata": {},
   "outputs": [
    {
     "name": "stdout",
     "output_type": "stream",
     "text": [
      "✅ complaints.csv saved.\n"
     ]
    }
   ],
   "source": [
    "import pandas as pd\n",
    "complaints = pd.DataFrame([\n",
    "  {\"complaint_id\":\"CMP-001\",\"customer_id\":1002,\"category\":\"Billing\",\"description\":\"Charged extra for data usage\",\"created_at\":\"2025/09/25 10:45\",\"status\":\"Open\"},\n",
    "  {\"complaint_id\":\"CMP-002\",\"customer_id\":1004,\"category\":\"Network\",\"description\":\"Frequent call drops in Delhi\",\"created_at\":\"2025-09-25 09:30\",\"status\":\"Open\"},\n",
    "  {\"complaint_id\":\"CMP-003\",\"customer_id\":1005,\"category\":\"Recharge\",\"description\":\"Recharge failed; amount deducted\",\"created_at\":\"25-09-2025 14:00\",\"status\":\"Closed\"},\n",
    "  {\"complaint_id\":\"CMP-004\",\"customer_id\":1002,\"category\":\"Network\",\"description\":\"Slow 4G speed at night\",\"created_at\":\"2025-09-26 20:40\",\"status\":\"Open\"},\n",
    "  {\"complaint_id\":\"CMP-005\",\"customer_id\":1003,\"category\":\"Support\",\"description\":\"No response to complaint\",\"created_at\":\"2025-09-26 11:10\",\"status\":\"Open\"}\n",
    "])\n",
    "complaints.to_csv(\"complaints.csv\", index=False)\n",
    "print(\"✅ complaints.csv saved.\")\n"
   ]
  },
  {
   "cell_type": "code",
   "execution_count": 2,
   "id": "8f39c884",
   "metadata": {},
   "outputs": [],
   "source": [
    "from sqlalchemy import create_engine\n"
   ]
  },
  {
   "cell_type": "code",
   "execution_count": 3,
   "id": "2f749917",
   "metadata": {},
   "outputs": [
    {
     "name": "stdout",
     "output_type": "stream",
     "text": [
      "✅ Connected to MySQL successfully!\n"
     ]
    }
   ],
   "source": [
    "user =  'root'\n",
    "password = 'Krishna@1234'\n",
    "host = 'test_db'\n",
    "database = 'test_db'\n",
    "\n",
    "engine = create_engine(f\"mysql+pymysql://{user}:{password}@{host}/{database}\")\n",
    "# Check connection\n",
    "print(\"✅ Connected to MySQL successfully!\")\n"
   ]
  },
  {
   "cell_type": "code",
   "execution_count": 5,
   "id": "3db44235",
   "metadata": {},
   "outputs": [
    {
     "ename": "NameError",
     "evalue": "name 'customers' is not defined",
     "output_type": "error",
     "traceback": [
      "\u001b[31m---------------------------------------------------------------------------\u001b[39m",
      "\u001b[31mNameError\u001b[39m                                 Traceback (most recent call last)",
      "\u001b[36mCell\u001b[39m\u001b[36m \u001b[39m\u001b[32mIn[5]\u001b[39m\u001b[32m, line 1\u001b[39m\n\u001b[32m----> \u001b[39m\u001b[32m1\u001b[39m customers[\u001b[33m'\u001b[39m\u001b[33mregion\u001b[39m\u001b[33m'\u001b[39m]  = \u001b[43mcustomers\u001b[49m[\u001b[33m'\u001b[39m\u001b[33mregion\u001b[39m\u001b[33m'\u001b[39m].str.title().str.strip()\n\u001b[32m      2\u001b[39m complaints[\u001b[33m'\u001b[39m\u001b[33mstatus\u001b[39m\u001b[33m'\u001b[39m] = complaints[\u001b[33m'\u001b[39m\u001b[33mstatus\u001b[39m\u001b[33m'\u001b[39m].str.title().str.strip()\n\u001b[32m      3\u001b[39m complaints[\u001b[33m'\u001b[39m\u001b[33mcategory\u001b[39m\u001b[33m'\u001b[39m] = complaints[\u001b[33m'\u001b[39m\u001b[33mcategory\u001b[39m\u001b[33m'\u001b[39m].str.title().str.strip()\n",
      "\u001b[31mNameError\u001b[39m: name 'customers' is not defined"
     ]
    }
   ],
   "source": [
    "customers['region']  = customers['region'].str.title().str.strip()\n",
    "complaints['status'] = complaints['status'].str.title().str.strip()\n",
    "complaints['category'] = complaints['category'].str.title().str.strip()\n"
   ]
  },
  {
   "cell_type": "code",
   "execution_count": null,
   "id": "984afb36",
   "metadata": {},
   "outputs": [],
   "source": []
  }
 ],
 "metadata": {
  "kernelspec": {
   "display_name": "Python 3",
   "language": "python",
   "name": "python3"
  },
  "language_info": {
   "codemirror_mode": {
    "name": "ipython",
    "version": 3
   },
   "file_extension": ".py",
   "mimetype": "text/x-python",
   "name": "python",
   "nbconvert_exporter": "python",
   "pygments_lexer": "ipython3",
   "version": "3.13.5"
  }
 },
 "nbformat": 4,
 "nbformat_minor": 5
}
